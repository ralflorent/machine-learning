{
 "cells": [
  {
   "cell_type": "markdown",
   "metadata": {},
   "source": [
    "#  Machine Learning - Mini Project II\n",
    "\n",
    "### Learning Algorithm: Classifier\n",
    "\n",
    "Created on March 10, 2019 by Diogo Cosin <d.ayresdeoliveira@jacobs-university.de> and Ralph Florent <r.florent@jacobs-university.de>.\n",
    "\n",
    "### Description\n",
    "Train a classifier for the Digits dataset by implementing a full processing pipeline from feature extraction to (linear) classifier training, attempting to squeeze performance out of the classifier using cross-validation and regularization techniques.\n",
    "\n",
    "### Summary\n",
    "The script below is intended to... \n",
    "\n",
    "WIP\n",
    "\n",
    "Note: The algorithm is tested on the OCR datasets from the `DigitsBasicsRoutine.zip`, which was provided by Professor Dr. H. Jaeger, Machine Learning Professor at [Jacobs University Bremen](https://www.jacobs-university.de)."
   ]
  },
  {
   "cell_type": "code",
   "execution_count": 13,
   "metadata": {},
   "outputs": [],
   "source": [
    "\"\"\" Learning Algorithm: Classifier \"\"\"\n",
    "\n",
    "# -*- coding: utf-8 -*-\n",
    "# \n",
    "# Created on April 01, 2019\n",
    "# Authors: \n",
    "#        Diogo Cosin <d.ayresdeoliveira@jacobs-university.de>,\n",
    "#        Ralph Florent <r.florent@jacobs-university.de>\n",
    "\n",
    "\n",
    "# Import relevant libraries\n",
    "import sys\n",
    "import matplotlib.pyplot as plt\n",
    "import numpy as np\n",
    "\n",
    "sys.path.append('./assets/')\n",
    "from miniprojectone import get_data_points, k_means\n",
    "\n",
    "\n",
    "# START: Helper functions\n",
    "def load_data(one_hot_encoding=False):\n",
    "    \"\"\" Load the data and parse (if specified, one-hot encoding) numbered \n",
    "        class labels.\n",
    "        \n",
    "        Parameters\n",
    "        ----------\n",
    "        one_hot_encoding: bool\n",
    "            determine whether one-hot encoding should be used or not\n",
    "            \n",
    "        Returns\n",
    "        -------\n",
    "        dataframe: array-like (n_samples, m_features)\n",
    "    \"\"\"\n",
    "    dataframe, k_class = [], 10\n",
    "    \n",
    "    for i in range(k_class):\n",
    "        raw_data = get_data_points(i) # 200-obs x 240-dim\n",
    "        if i == 0: i = 10 # define \"0\" as class 10\n",
    "        encoded = one_hot_encode(i) if one_hot_encoding else i\n",
    "        \n",
    "        for point in raw_data:\n",
    "            dataframe.append( np.insert(point, len(point), encoded) )\n",
    "            \n",
    "    return np.array(dataframe) # cast as numpy array\n",
    "\n",
    "\n",
    "def one_hot_encode(ith, k=10):\n",
    "    \"\"\" Apply one-hot encoding technique for a k-dimensional vector\n",
    "        \n",
    "        This function is intended to work like a lightweight version one-hot-encoder.\n",
    "        It is adapted to our specific needs. \n",
    "        \n",
    "        Parameters\n",
    "        ----------\n",
    "        ith: int\n",
    "            ith position of the one-of-K discrete label\n",
    "        \n",
    "        k: int\n",
    "            number of k-classes for the encoding vector\n",
    "            \n",
    "        Returns\n",
    "        -------\n",
    "        encoded: array\n",
    "            vector with zeros and one in the ith position\n",
    "    \"\"\"\n",
    "    if ith > k:\n",
    "        ith = k # avoid out of bound exception\n",
    "        \n",
    "    index = ith - 1\n",
    "    encoded = np.zeros(k)\n",
    "    encoded[index] = 1\n",
    "    return encoded\n",
    "\n",
    "\n",
    "\n",
    "# END: Helper functions"
   ]
  },
  {
   "cell_type": "markdown",
   "metadata": {},
   "source": [
    "### Loading training and testing data\n",
    "The `load_data` function helps framing the data with numbered or one-hot encoding class labels to build an in-memory data frame. \n",
    "\n",
    "Given this data frame, let's load the first 100 digit-patterns as training data and the second 100 as testing data, for a specific digit."
   ]
  },
  {
   "cell_type": "code",
   "execution_count": 17,
   "metadata": {},
   "outputs": [
    {
     "data": {
      "text/plain": [
       "(2000, 250)"
      ]
     },
     "execution_count": 17,
     "metadata": {},
     "output_type": "execute_result"
    }
   ],
   "source": [
    "dataframe = load_data(one_hot_encoding=True)\n",
    "\n",
    "# Distribute dataframe into training and testing data\n",
    "# WIP\n",
    "\n",
    "dataframe.shape"
   ]
  }
 ],
 "metadata": {
  "kernelspec": {
   "display_name": "Python 3",
   "language": "python",
   "name": "python3"
  },
  "language_info": {
   "codemirror_mode": {
    "name": "ipython",
    "version": 3
   },
   "file_extension": ".py",
   "mimetype": "text/x-python",
   "name": "python",
   "nbconvert_exporter": "python",
   "pygments_lexer": "ipython3",
   "version": "3.7.1"
  }
 },
 "nbformat": 4,
 "nbformat_minor": 2
}
